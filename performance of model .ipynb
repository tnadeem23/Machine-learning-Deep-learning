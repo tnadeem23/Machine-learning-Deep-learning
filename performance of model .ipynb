{
 "cells": [
  {
   "cell_type": "markdown",
   "metadata": {},
   "source": [
    "# TRAIN TEST SPLIT"
   ]
  },
  {
   "cell_type": "code",
   "execution_count": 6,
   "metadata": {},
   "outputs": [],
   "source": [
    "from keras.models import Sequential\n",
    "from keras.layers import Dense \n",
    "from keras.optimizers import Adam, SGD\n",
    "\n",
    "%matplotlib inline\n",
    "import matplotlib.pyplot as plt\n",
    "import numpy as np\n",
    "import pandas as pd"
   ]
  },
  {
   "cell_type": "code",
   "execution_count": 7,
   "metadata": {
    "collapsed": true
   },
   "outputs": [],
   "source": [
    "from sklearn.model_selection import train_test_split"
   ]
  },
  {
   "cell_type": "code",
   "execution_count": 8,
   "metadata": {},
   "outputs": [],
   "source": [
    "df=pd.read_csv('./data/weight-height.csv')"
   ]
  },
  {
   "cell_type": "code",
   "execution_count": 9,
   "metadata": {
    "collapsed": true
   },
   "outputs": [],
   "source": [
    "X=df[['Height']].values\n",
    "y_true=df[['Weight']].values"
   ]
  },
  {
   "cell_type": "code",
   "execution_count": 10,
   "metadata": {
    "collapsed": true
   },
   "outputs": [],
   "source": [
    "X_train, X_test, y_train, y_test = train_test_split(X,y_true, test_size=0.3)"
   ]
  },
  {
   "cell_type": "code",
   "execution_count": 11,
   "metadata": {},
   "outputs": [
    {
     "data": {
      "text/plain": [
       "7000"
      ]
     },
     "execution_count": 11,
     "metadata": {},
     "output_type": "execute_result"
    }
   ],
   "source": [
    "len(X_train)"
   ]
  },
  {
   "cell_type": "code",
   "execution_count": 12,
   "metadata": {},
   "outputs": [
    {
     "data": {
      "text/plain": [
       "3000"
      ]
     },
     "execution_count": 12,
     "metadata": {},
     "output_type": "execute_result"
    }
   ],
   "source": [
    "len(X_test)"
   ]
  },
  {
   "cell_type": "code",
   "execution_count": 13,
   "metadata": {
    "collapsed": true
   },
   "outputs": [],
   "source": [
    "model = Sequential()\n",
    "model.add(Dense(1, input_shape=(1,)))"
   ]
  },
  {
   "cell_type": "code",
   "execution_count": 14,
   "metadata": {
    "collapsed": true
   },
   "outputs": [],
   "source": [
    "model.compile(Adam(lr=0.8), 'mean_squared_error')"
   ]
  },
  {
   "cell_type": "code",
   "execution_count": 15,
   "metadata": {},
   "outputs": [
    {
     "name": "stdout",
     "output_type": "stream",
     "text": [
      "Epoch 1/50\n",
      "7000/7000 [==============================] - 0s 69us/step - loss: 937.2249\n",
      "Epoch 2/50\n",
      "7000/7000 [==============================] - 0s 46us/step - loss: 567.3007\n",
      "Epoch 3/50\n",
      "7000/7000 [==============================] - 0s 48us/step - loss: 538.6819\n",
      "Epoch 4/50\n",
      "7000/7000 [==============================] - 0s 48us/step - loss: 495.5427\n",
      "Epoch 5/50\n",
      "7000/7000 [==============================] - 0s 49us/step - loss: 470.4581\n",
      "Epoch 6/50\n",
      "7000/7000 [==============================] - 0s 48us/step - loss: 435.7110\n",
      "Epoch 7/50\n",
      "7000/7000 [==============================] - 0s 52us/step - loss: 397.6524\n",
      "Epoch 8/50\n",
      "7000/7000 [==============================] - 0s 48us/step - loss: 415.3399\n",
      "Epoch 9/50\n",
      "7000/7000 [==============================] - 0s 46us/step - loss: 351.1025\n",
      "Epoch 10/50\n",
      "7000/7000 [==============================] - 0s 49us/step - loss: 331.7997\n",
      "Epoch 11/50\n",
      "7000/7000 [==============================] - 0s 48us/step - loss: 312.2278\n",
      "Epoch 12/50\n",
      "7000/7000 [==============================] - 0s 48us/step - loss: 287.3319\n",
      "Epoch 13/50\n",
      "7000/7000 [==============================] - 0s 49us/step - loss: 275.5043\n",
      "Epoch 14/50\n",
      "7000/7000 [==============================] - 0s 48us/step - loss: 254.8938\n",
      "Epoch 15/50\n",
      "7000/7000 [==============================] - 0s 50us/step - loss: 251.3302\n",
      "Epoch 16/50\n",
      "7000/7000 [==============================] - 0s 48us/step - loss: 236.5736\n",
      "Epoch 17/50\n",
      "7000/7000 [==============================] - 0s 49us/step - loss: 215.9093\n",
      "Epoch 18/50\n",
      "7000/7000 [==============================] - 0s 49us/step - loss: 226.4851\n",
      "Epoch 19/50\n",
      "7000/7000 [==============================] - 0s 49us/step - loss: 199.0780\n",
      "Epoch 20/50\n",
      "7000/7000 [==============================] - 0s 54us/step - loss: 207.4276\n",
      "Epoch 21/50\n",
      "7000/7000 [==============================] - 0s 52us/step - loss: 195.4279\n",
      "Epoch 22/50\n",
      "7000/7000 [==============================] - 0s 49us/step - loss: 194.8124\n",
      "Epoch 23/50\n",
      "7000/7000 [==============================] - 0s 49us/step - loss: 183.4057\n",
      "Epoch 24/50\n",
      "7000/7000 [==============================] - 0s 48us/step - loss: 199.1188\n",
      "Epoch 25/50\n",
      "7000/7000 [==============================] - 0s 53us/step - loss: 200.5518\n",
      "Epoch 26/50\n",
      "7000/7000 [==============================] - 0s 53us/step - loss: 188.8754\n",
      "Epoch 27/50\n",
      "7000/7000 [==============================] - 0s 49us/step - loss: 183.7468\n",
      "Epoch 28/50\n",
      "7000/7000 [==============================] - 0s 50us/step - loss: 176.0986\n",
      "Epoch 29/50\n",
      "7000/7000 [==============================] - 0s 50us/step - loss: 178.3809\n",
      "Epoch 30/50\n",
      "7000/7000 [==============================] - 0s 50us/step - loss: 176.4894\n",
      "Epoch 31/50\n",
      "7000/7000 [==============================] - 0s 51us/step - loss: 185.0524\n",
      "Epoch 32/50\n",
      "7000/7000 [==============================] - 0s 50us/step - loss: 179.6535\n",
      "Epoch 33/50\n",
      "7000/7000 [==============================] - 0s 52us/step - loss: 187.9213\n",
      "Epoch 34/50\n",
      "7000/7000 [==============================] - 0s 50us/step - loss: 175.9326\n",
      "Epoch 35/50\n",
      "7000/7000 [==============================] - 0s 52us/step - loss: 195.7153\n",
      "Epoch 36/50\n",
      "7000/7000 [==============================] - 0s 51us/step - loss: 166.0308\n",
      "Epoch 37/50\n",
      "7000/7000 [==============================] - 0s 49us/step - loss: 173.0966\n",
      "Epoch 38/50\n",
      "7000/7000 [==============================] - 0s 50us/step - loss: 181.0006\n",
      "Epoch 39/50\n",
      "7000/7000 [==============================] - 0s 50us/step - loss: 203.5427\n",
      "Epoch 40/50\n",
      "7000/7000 [==============================] - 0s 48us/step - loss: 177.0957\n",
      "Epoch 41/50\n",
      "7000/7000 [==============================] - 0s 49us/step - loss: 167.6181\n",
      "Epoch 42/50\n",
      "7000/7000 [==============================] - 0s 50us/step - loss: 170.6325\n",
      "Epoch 43/50\n",
      "7000/7000 [==============================] - 0s 49us/step - loss: 171.5441\n",
      "Epoch 44/50\n",
      "7000/7000 [==============================] - 0s 50us/step - loss: 167.6836\n",
      "Epoch 45/50\n",
      "7000/7000 [==============================] - 0s 50us/step - loss: 175.2311\n",
      "Epoch 46/50\n",
      "7000/7000 [==============================] - 0s 50us/step - loss: 195.0023\n",
      "Epoch 47/50\n",
      "7000/7000 [==============================] - 0s 52us/step - loss: 177.9814\n",
      "Epoch 48/50\n",
      "7000/7000 [==============================] - 0s 53us/step - loss: 168.1879\n",
      "Epoch 49/50\n",
      "7000/7000 [==============================] - 0s 49us/step - loss: 192.4596\n",
      "Epoch 50/50\n",
      "7000/7000 [==============================] - 0s 51us/step - loss: 179.2428\n"
     ]
    },
    {
     "data": {
      "text/plain": [
       "<keras.callbacks.History at 0x184fb042748>"
      ]
     },
     "execution_count": 15,
     "metadata": {},
     "output_type": "execute_result"
    }
   ],
   "source": [
    "model.fit(X_train, y_train, epochs=50)"
   ]
  },
  {
   "cell_type": "code",
   "execution_count": 16,
   "metadata": {
    "collapsed": true
   },
   "outputs": [],
   "source": [
    "y_train_pred= model.predict(X_train).ravel()\n",
    "y_test_pred=model.predict(X_test).ravel()"
   ]
  },
  {
   "cell_type": "code",
   "execution_count": 17,
   "metadata": {},
   "outputs": [
    {
     "data": {
      "text/plain": [
       "[<matplotlib.lines.Line2D at 0x184fb34f9b0>]"
      ]
     },
     "execution_count": 17,
     "metadata": {},
     "output_type": "execute_result"
    },
    {
     "data": {
      "image/png": "[encoded data removed]",
      "text/plain": [
       "<matplotlib.figure.Figure at 0x184fb34fbe0>"
      ]
     },
     "metadata": {},
     "output_type": "display_data"
    }
   ],
   "source": [
    "df.plot(kind='scatter',\n",
    "       x='Height',\n",
    "       y='Weight', title='Weight and Height in adults')\n",
    "plt.plot(X_train, y_train_pred, color='red', linewidth=6)\n",
    "plt.plot(X_test, y_test_pred, color='yellow', linewidth=2)"
   ]
  },
  {
   "cell_type": "code",
   "execution_count": 18,
   "metadata": {
    "collapsed": true
   },
   "outputs": [],
   "source": [
    "from sklearn.metrics import mean_squared_error as mse\n",
    "from sklearn.metrics import r2_score"
   ]
  },
  {
   "cell_type": "code",
   "execution_count": 19,
   "metadata": {},
   "outputs": [
    {
     "name": "stdout",
     "output_type": "stream",
     "text": [
      "154.69836773198108\n",
      "159.27918553925068\n"
     ]
    }
   ],
   "source": [
    "print(mse(y_train, y_train_pred))\n",
    "print(mse(y_test, y_test_pred))"
   ]
  },
  {
   "cell_type": "code",
   "execution_count": 21,
   "metadata": {},
   "outputs": [
    {
     "name": "stdout",
     "output_type": "stream",
     "text": [
      "0.8490866663913385\n",
      "0.8474203006595183\n"
     ]
    }
   ],
   "source": [
    "print(r2_score(y_train, y_train_pred))\n",
    "print(r2_score(y_test, y_test_pred))"
   ]
  },
  {
   "cell_type": "code",
   "execution_count": null,
   "metadata": {
    "collapsed": true
   },
   "outputs": [],
   "source": [
    "'''to reset the model \n",
    "'''\n",
    "w[0,0]=0.0\n",
    "B[0]=0.0\n",
    "model.set_weights((W,B))"
   ]
  },
  {
   "cell_type": "code",
   "execution_count": null,
   "metadata": {
    "collapsed": true
   },
   "outputs": [],
   "source": []
  }
 ],
 "metadata": {
  "kernelspec": {
   "display_name": "Python 3",
   "language": "python",
   "name": "python3"
  },
  "language_info": {
   "codemirror_mode": {
    "name": "ipython",
    "version": 3
   },
   "file_extension": ".py",
   "mimetype": "text/x-python",
   "name": "python",
   "nbconvert_exporter": "python",
   "pygments_lexer": "ipython3",
   "version": "3.6.2"
  }
 },
 "nbformat": 4,
 "nbformat_minor": 2
}
