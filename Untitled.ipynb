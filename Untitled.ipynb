{
 "cells": [
  {
   "cell_type": "code",
   "execution_count": 1,
   "metadata": {},
   "outputs": [
    {
     "ename": "error",
     "evalue": "OpenCV(3.4.3) C:\\projects\\opencv-python\\opencv\\modules\\imgproc\\src\\color.cpp:181: error: (-215:Assertion failed) !_src.empty() in function 'cv::cvtColor'\n",
     "output_type": "error",
     "traceback": [
      "\u001b[1;31m---------------------------------------------------------------------------\u001b[0m",
      "\u001b[1;31merror\u001b[0m                                     Traceback (most recent call last)",
      "\u001b[1;32m<ipython-input-1-4312696797ea>\u001b[0m in \u001b[0;36m<module>\u001b[1;34m()\u001b[0m\n\u001b[0;32m     12\u001b[0m \u001b[1;31m#convering to gray\u001b[0m\u001b[1;33m\u001b[0m\u001b[1;33m\u001b[0m\u001b[0m\n\u001b[0;32m     13\u001b[0m \u001b[1;33m\u001b[0m\u001b[0m\n\u001b[1;32m---> 14\u001b[1;33m \u001b[0mgray\u001b[0m \u001b[1;33m=\u001b[0m \u001b[0mcv2\u001b[0m\u001b[1;33m.\u001b[0m\u001b[0mcvtColor\u001b[0m\u001b[1;33m(\u001b[0m\u001b[0mimg\u001b[0m\u001b[1;33m,\u001b[0m \u001b[0mcv2\u001b[0m\u001b[1;33m.\u001b[0m\u001b[0mCOLOR_BGR2GRAY\u001b[0m\u001b[1;33m)\u001b[0m\u001b[1;33m\u001b[0m\u001b[0m\n\u001b[0m\u001b[0;32m     15\u001b[0m \u001b[1;33m\u001b[0m\u001b[0m\n\u001b[0;32m     16\u001b[0m \u001b[1;31m#detecting face\u001b[0m\u001b[1;33m\u001b[0m\u001b[1;33m\u001b[0m\u001b[0m\n",
      "\u001b[1;31merror\u001b[0m: OpenCV(3.4.3) C:\\projects\\opencv-python\\opencv\\modules\\imgproc\\src\\color.cpp:181: error: (-215:Assertion failed) !_src.empty() in function 'cv::cvtColor'\n"
     ]
    }
   ],
   "source": [
    "import numpy\n",
    "import cv2\n",
    "import sys\n",
    "\n",
    "facecascade = cv2.CascadeClassifier('haarcascade_frontalface_default.xml')\n",
    "eyecascade = cv2.CascadeClassifier('haarcascade_eye.xml')\n",
    "smilecascade = cv2.CascadeClassifier('haarcascade_smile.xml')\n",
    "\n",
    "#reading image\n",
    "img = cv2.imread('abc.jpg',1)\n",
    "\n",
    "#convering to gray\n",
    "\n",
    "gray = cv2.cvtColor(img, cv2.COLOR_BGR2GRAY)\n",
    "\n",
    "#detecting face\n",
    "faces = facecascade.detectMultiScale(img,1.1,5)\n",
    "for (x,y,w,h) in faces:\n",
    "    roi_color = img[y:y+h, x:x+w]\n",
    "    roi_smile = img[int(y+h*6/10):y+h, x:x+w]\n",
    "    font = cv2.FONT_HERSHEY_SIMPLEX\n",
    "    cv2.putText(img,'FACE FOUND! ',(x+h,2*y), font, 0.5, (200,255,255), 2, cv2.LINE_AA)\n",
    "    cv2.rectangle(img,(x,y),(x+w,y+h),(255,0,0),4)\n",
    "    roi_gray = img[y:y+h, x:x+w]\n",
    "\n",
    "print\n",
    "[\"FOUND\", len(faces), \"face\"]\n",
    "print\n",
    "[\"Detected Face Cordinates:\", (faces)]\n",
    "\n",
    "#detecting smile\n",
    "smile = smilecascade.detectMultiScale(\n",
    "roi_gray,\n",
    "scaleFactor= 1.7,\n",
    "minNeighbors=22,\n",
    "minSize=(25, 25),\n",
    "flags=cv2.CASCADE_SCALE_IMAGE)\n",
    "for (hx,hy,hw,hh) in smile:\n",
    "    font = cv2.FONT_HERSHEY_SIMPLEX\n",
    "    cv2.putText(img,'HAPPY! ',(hx,2*hy), font, 0.5, (11,255,255), 2, cv2.LINE_AA)\n",
    "    cv2.rectangle(roi_color, (hx, hy), (hx+hw, hy+hh), (255, 0, 0), 1)\n",
    "\n",
    "\n",
    "#detecting eyes\n",
    "eyes = eyecascade.detectMultiScale(img)\n",
    "for (ex,ey,ew,eh) in eyes:\n",
    "    cv2.rectangle(img,(ex,ey),(ex+ew,ey+eh),(0,255,0),2)\n",
    "\n",
    "\n",
    "#saving image\n",
    "cv2.imshow('img',img)\n",
    "\n",
    "cv2.imshow('roi_color',roi_color)\n",
    "cv2.imshow('roi_smile',roi_smile)\n",
    "cv2.waitKey()\n",
    "cv2.destroyAllWindows()\n",
    "\n",
    "\n",
    "\n",
    "\n",
    "\n",
    "\n",
    "\n",
    "print\n",
    "[\"Detected Smile cordinates:\",(smile)]\n",
    "cv2.imshow('gray',gray)\n",
    "cv2.imshow('roi_gray',roi_gray)\n",
    "cv2.imwrite('_write.jpg',img)\n",
    "#cv2.rectangle(img,(sx,sy+sh*6/15),(sx+sw,sy+sh*3/5),(0,0,255),2)\n"
   ]
  },
  {
   "cell_type": "code",
   "execution_count": null,
   "metadata": {
    "collapsed": true
   },
   "outputs": [],
   "source": []
  }
 ],
 "metadata": {
  "kernelspec": {
   "display_name": "Python 3",
   "language": "python",
   "name": "python3"
  },
  "language_info": {
   "codemirror_mode": {
    "name": "ipython",
    "version": 3
   },
   "file_extension": ".py",
   "mimetype": "text/x-python",
   "name": "python",
   "nbconvert_exporter": "python",
   "pygments_lexer": "ipython3",
   "version": "3.6.2"
  }
 },
 "nbformat": 4,
 "nbformat_minor": 2
}
